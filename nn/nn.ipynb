{
 "cells": [
  {
   "cell_type": "code",
   "execution_count": 1,
   "id": "a8c78bd5-db92-49ab-9edc-caf9c7692d41",
   "metadata": {},
   "outputs": [
    {
     "name": "stdout",
     "output_type": "stream",
     "text": [
      "People training count:  558\n",
      "Monkey training count:  1296\n",
      "People validation count:  179\n",
      "Monkey validation count:  314\n"
     ]
    }
   ],
   "source": [
    "import os\n",
    "\n",
    "train_people_dir = os.path.join(\"train/people\")\n",
    "train_monkey_dir = os.path.join(\"train/monkey\")\n",
    "valid_people_dir = os.path.join(\"valid/people\")\n",
    "valid_monkey_dir = os.path.join(\"valid/monkey\")\n",
    "\n",
    "print(\"People training count: \", len(os.listdir(train_people_dir)))\n",
    "print(\"Monkey training count: \", len(os.listdir(train_monkey_dir)))\n",
    "print(\"People validation count: \", len(os.listdir(valid_people_dir)))\n",
    "print(\"Monkey validation count: \", len(os.listdir(valid_monkey_dir)))"
   ]
  },
  {
   "cell_type": "code",
   "execution_count": 1,
   "id": "1ff9c424-3fae-4028-af57-07b07a680947",
   "metadata": {},
   "outputs": [
    {
     "ename": "SyntaxError",
     "evalue": "invalid syntax (pywrap_tensorflow_internal.py, line 114)",
     "output_type": "error",
     "traceback": [
      "Traceback \u001b[36m(most recent call last)\u001b[39m:\n",
      "  File \u001b[92m~\\AppData\\Local\\Programs\\Python\\Python313\\Lib\\site-packages\\IPython\\core\\interactiveshell.py:3549\u001b[39m in \u001b[95mrun_code\u001b[39m\n    exec(code_obj, self.user_global_ns, self.user_ns)\n",
      "  Cell \u001b[92mIn[1]\u001b[39m\u001b[92m, line 1\u001b[39m\n    from tensorflow.keras.preprocessing.image import ImageDataGenerator\n",
      "  File \u001b[92m~\\AppData\\Local\\Programs\\Python\\Python313\\Lib\\site-packages\\tensorflow\\__init__.py:24\u001b[39m\n    from tensorflow.python import pywrap_tensorflow  # pylint: disable=unused-import\n",
      "  File \u001b[92m~\\AppData\\Local\\Programs\\Python\\Python313\\Lib\\site-packages\\tensorflow\\python\\__init__.py:49\u001b[39m\n    from tensorflow.python import pywrap_tensorflow\n",
      "\u001b[36m  \u001b[39m\u001b[36mFile \u001b[39m\u001b[32m~\\AppData\\Local\\Programs\\Python\\Python313\\Lib\\site-packages\\tensorflow\\python\\pywrap_tensorflow.py:58\u001b[39m\n\u001b[31m    \u001b[39m\u001b[31mfrom tensorflow.python.pywrap_tensorflow_internal import *\u001b[39m\n",
      "  \u001b[36mFile \u001b[39m\u001b[32m~\\AppData\\Local\\Programs\\Python\\Python313\\Lib\\site-packages\\tensorflow\\python\\pywrap_tensorflow_internal.py:114\u001b[39m\n\u001b[31m    \u001b[39m\u001b[31mdef TFE_ContextOptionsSetAsync(arg1, async):\u001b[39m\n                                         ^\n\u001b[31mSyntaxError\u001b[39m\u001b[31m:\u001b[39m invalid syntax\n"
     ]
    }
   ],
   "source": [
    "from tensorflow.keras.preprocessing.image import ImageDataGenerator\n",
    "\n",
    "train_datagen = ImageDataGenerator(rescale=1/255)\n",
    "valid_datagen = ImageDataGenerator(rescale=1/255)\n",
    "\n",
    "train_gen = train_datagen.flow_from_directory(\n",
    "        '/tmp/train/',\n",
    "        classes = ['people', 'monkey'],\n",
    "        target_size=(200, 200),\n",
    "        batch_size=120,\n",
    "        class_mode='binary')\n",
    "\n",
    "valid_gen = valid_datagen.flow_from_directory(\n",
    "        '/tmp/valid/',\n",
    "        classes = ['people', 'monkey'],\n",
    "        target_size=(200, 200),\n",
    "        batch_size=19,\n",
    "        class_mode='binary')"
   ]
  },
  {
   "cell_type": "code",
   "execution_count": null,
   "id": "9733f1fc-c987-47d1-8d0d-4d3fd406d7bf",
   "metadata": {},
   "outputs": [],
   "source": [
    "import tensorflow as tf\n",
    "import numpy as np\n",
    "from itertools import cycle\n",
    "\n",
    "from sklearn import svm, datasets\n",
    "from sklearn.metrics import roc_curve, auc\n",
    "from sklearn.model_selection import train_test_split\n",
    "from sklearn.preprocessing import label_binarize\n",
    "from sklearn.multiclass import OneVsRestClassifier\n",
    "from scipy import interp\n",
    "from sklearn.metrics import roc_auc_score\n",
    "\n",
    "model = tf.keras.models.Sequential([tf.keras.layers.Flatten(input_shape = (200,200,3)), \n",
    "                                    tf.keras.layers.Dense(128, activation=tf.nn.relu), \n",
    "                                    tf.keras.layers.Dense(1, activation=tf.nn.sigmoid)])\n",
    "\n",
    "model.summary()"
   ]
  },
  {
   "cell_type": "code",
   "execution_count": null,
   "id": "bfc9130d-4721-454e-a7d6-8f6cf8675846",
   "metadata": {},
   "outputs": [],
   "source": [
    "model.compile(optimizer = tf.optimizers.Adam(),\n",
    "              loss = 'binary_crossentropy',\n",
    "              metrics=['accuracy'])"
   ]
  },
  {
   "cell_type": "code",
   "execution_count": null,
   "id": "445f503b-7f11-43cd-afc7-360104955b02",
   "metadata": {},
   "outputs": [],
   "source": [
    "history = model.fit(train_generator,\n",
    "      steps_per_epoch=15,  \n",
    "      epochs=15,\n",
    "      verbose=1,\n",
    "      validation_data = valid_gen,\n",
    "      validation_steps=8)"
   ]
  },
  {
   "cell_type": "code",
   "execution_count": null,
   "id": "840fa135-a2b6-4238-82db-c4d622a363e9",
   "metadata": {},
   "outputs": [],
   "source": [
    "model.evaluate(validation_generator)"
   ]
  }
 ],
 "metadata": {
  "kernelspec": {
   "display_name": "Python 3 (ipykernel)",
   "language": "python",
   "name": "python3"
  },
  "language_info": {
   "codemirror_mode": {
    "name": "ipython",
    "version": 3
   },
   "file_extension": ".py",
   "mimetype": "text/x-python",
   "name": "python",
   "nbconvert_exporter": "python",
   "pygments_lexer": "ipython3",
   "version": "3.13.2"
  }
 },
 "nbformat": 4,
 "nbformat_minor": 5
}
