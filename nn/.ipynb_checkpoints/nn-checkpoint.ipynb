{
 "cells": [
  {
   "cell_type": "code",
   "execution_count": 1,
   "id": "a8c78bd5-db92-49ab-9edc-caf9c7692d41",
   "metadata": {},
   "outputs": [
    {
     "name": "stdout",
     "output_type": "stream",
     "text": [
      "People training count:  558\n",
      "Monkey training count:  1296\n",
      "People validation count:  179\n",
      "Monkey validation count:  314\n"
     ]
    }
   ],
   "source": [
    "import os\n",
    "\n",
    "train_people_dir = os.path.join(\"train/people\")\n",
    "train_monkey_dir = os.path.join(\"train/monkey\")\n",
    "valid_people_dir = os.path.join(\"valid/people\")\n",
    "valid_monkey_dir = os.path.join(\"valid/monkey\")\n",
    "\n",
    "print(\"People training count: \", len(os.listdir(train_people_dir)))\n",
    "print(\"Monkey training count: \", len(os.listdir(train_monkey_dir)))\n",
    "print(\"People validation count: \", len(os.listdir(valid_people_dir)))\n",
    "print(\"Monkey validation count: \", len(os.listdir(valid_monkey_dir)))"
   ]
  },
  {
   "cell_type": "code",
   "execution_count": null,
   "id": "1ff9c424-3fae-4028-af57-07b07a680947",
   "metadata": {},
   "outputs": [],
   "source": [
    "from tensorflow.keras.preprocessing.image import ImageDataGenerator\n",
    "\n",
    "train_datagen = ImageDataGenerator(rescale=1/255)\n",
    "valid_datagen = ImageDataGenerator(rescale=1/255)\n",
    "\n",
    "train_gen = train_datagen.flow_from_directory(\n",
    "        '/tmp/train/',\n",
    "        classes = ['people', 'monkey'],\n",
    "        target_size=(200, 200),\n",
    "        batch_size=120,\n",
    "        class_mode='binary')\n",
    "\n",
    "valid_gen = valid_datagen.flow_from_directory(\n",
    "        '/tmp/valid/',\n",
    "        classes = ['people', 'monkey'],\n",
    "        target_size=(200, 200),\n",
    "        batch_size=120,\n",
    "        class_mode='binary')"
   ]
  }
 ],
 "metadata": {
  "kernelspec": {
   "display_name": "Python 3 (ipykernel)",
   "language": "python",
   "name": "python3"
  },
  "language_info": {
   "codemirror_mode": {
    "name": "ipython",
    "version": 3
   },
   "file_extension": ".py",
   "mimetype": "text/x-python",
   "name": "python",
   "nbconvert_exporter": "python",
   "pygments_lexer": "ipython3",
   "version": "3.13.2"
  }
 },
 "nbformat": 4,
 "nbformat_minor": 5
}
